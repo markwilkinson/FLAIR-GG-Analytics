{
  "cells": [
    {
      "attachments": {},
      "cell_type": "markdown",
      "metadata": {
        "tags": []
      },
      "source": [
        "\n",
        "<img src = \"https://vp.bgv.cbgp.upm.es/images/flair-gg-logo.png\" width = 700/>\n",
        "\n",
        "# A SPARQL Results explorer for FLAIR-GG\n",
        "\n"
      ]
    },
    {
      "cell_type": "markdown",
      "metadata": {},
      "source": [
        "You should copy/paste the SECRET KEY provided in the FLAIR-GG Virtual Platform in place of the \"XXXX\" below, then run that block (Ctrl-ENTER)\n",
        "\n",
        "(Note that the first time you execute a code block it may take a minute or more to download all necessary libraries.  After that, it will be fast!  Please be patient)\n"
      ]
    },
    {
      "cell_type": "code",
      "execution_count": null,
      "metadata": {},
      "outputs": [],
      "source": [
        "import pyodide_kernel\n",
        "%pip install -q requests\n",
        "\n",
        "key = \"XXXXXXXX\"   # your secret key from the FLAIR-GG Virtual Platform\n",
        "\n",
        "url = \"https://ldp.cbgp.upm.es/DAV/home/LDP/{}\".format(key.strip())"
      ]
    },
    {
      "cell_type": "markdown",
      "metadata": {},
      "source": [
        "The next cell will download your FLAIR-GG result set, and you can begin your analytics"
      ]
    },
    {
      "cell_type": "code",
      "execution_count": null,
      "metadata": {},
      "outputs": [],
      "source": [
        "import requests\n",
        "\n",
        "response = requests.get(url)\n",
        "print(response.content)\n"
      ]
    }
  ],
  "metadata": {
    "kernelspec": {
      "display_name": "Python 3",
      "language": "python",
      "name": "python3"
    },
    "language_info": {
      "codemirror_mode": {
        "name": "python",
        "version": 3
      },
      "file_extension": ".py",
      "mimetype": "text/x-python",
      "name": "python",
      "nbconvert_exporter": "python",
      "pygments_lexer": "ipython3",
      "version": "3.8.10"
    },
    "orig_nbformat": 4
  },
  "nbformat": 4,
  "nbformat_minor": 4
}
