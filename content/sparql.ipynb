{
  "cells": [
    {
      "attachments": {},
      "cell_type": "markdown",
      "metadata": {
        "tags": []
      },
      "source": [
        "# A SPARQL Results explorer for FLAIR-GG\n",
        "<img src = \"https://vp.bgv.cbgp.upm.es/images/flair-gg-logo.png\" width = 700/>"
      ]
    },
    {
      "cell_type": "markdown",
      "metadata": {},
      "source": [
        "You should copy/paste the SECRET KEY provided in the FLAIR-GG Virtual Platform in place of the \"XXXX\" below, then run that block (Ctrl-ENTER)\n",
        "\n",
        "(Note that the first time you execute a code block it may take a minute or more to download all necessary libraries.  After that, it will be fast!  Please be patient)\n"
      ]
    },
    {
      "cell_type": "code",
      "execution_count": null,
      "metadata": {},
      "outputs": [],
      "source": [
        "key = \"XXXXXXXX\"   # your secret key from the FLAIR-GG Virtual Platform\n",
        "\n",
        "url = \"https://bgv.cbgp.upm.es/DAV/home/LDP/{}\".format(key.strip())"
      ]
    },
    {
      "cell_type": "markdown",
      "metadata": {},
      "source": [
        "The next cell will download your FLAIR-GG result set, and you can begin your analytics"
      ]
    },
    {
      "cell_type": "code",
      "execution_count": null,
      "metadata": {},
      "outputs": [],
      "source": [
        "import requests\n",
        "\n",
        "def download_file_into_memory(url):\n",
        "    response = requests.get(url)\n",
        "    if response.status_code == 200:\n",
        "        return response.content\n",
        "    else:\n",
        "        print(f\"Failed to download file. Status code: {response.status_code}\")\n",
        "        return None\n",
        "\n",
        "\n",
        "file_content = download_file_into_memory(url)\n",
        "\n",
        "if file_content:\n",
        "    # Now you can use 'file_content' as a byte array containing the downloaded file\n",
        "    print(\"File downloaded into memory successfully.\")\n",
        "    # For example, you can print the first 100 characters of the file\n",
        "    print(file_content[:100].decode('utf-8', errors='ignore'))\n",
        "else:\n",
        "    print(\"File download into memory failed.\")"
      ]
    }
  ],
  "metadata": {
    "kernelspec": {
      "display_name": "Python 3",
      "language": "python",
      "name": "python3"
    },
    "language_info": {
      "codemirror_mode": {
        "name": "python",
        "version": 3
      },
      "file_extension": ".py",
      "mimetype": "text/x-python",
      "name": "python",
      "nbconvert_exporter": "python",
      "pygments_lexer": "ipython3",
      "version": "3.8.10"
    },
    "orig_nbformat": 4
  },
  "nbformat": 4,
  "nbformat_minor": 4
}
